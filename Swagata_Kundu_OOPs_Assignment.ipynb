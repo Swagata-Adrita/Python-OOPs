{
 "cells": [
  {
   "cell_type": "markdown",
   "id": "df4a9236",
   "metadata": {},
   "source": [
    "# Assignment of Python OOPs by Swagata Kundu\n",
    "\n",
    "# Theory Questions:"
   ]
  },
  {
   "cell_type": "markdown",
   "id": "8422f09e",
   "metadata": {},
   "source": [
    "### 1. What is Object-Oriented Programming (OOP)?\n",
    "\n",
    "    Object-Oriented Programming (OOP) is a programming paradigm that organizes software design around objects rather than functions or logic. Objects can be thought of as real-world entities, like a car or a person, which combine data (attributes) and behavior (methods) into a single unit.\n",
    "\n",
    "    The key principles of OOP are:\n",
    "\n",
    "- Encapsulation: Bundling data and methods that operate on the data into a single unit (an object) while restricting direct access to some of the object's components to protect its integrity.\n",
    "\n",
    "- Inheritance: Allowing a new class (child) to inherit properties and behavior from an existing class (parent), enabling code reuse and extending functionality.\n",
    "\n",
    "\n",
    "\n",
    " - Polymorphism: Allowing objects to take on multiple forms, so a single interface can represent different underlying data types. For example, different objects can define their own versions of a method, even if they share the same name.\n",
    "    \n",
    "  - Abstraction: Hiding complex implementation details and showing only the necessary and relevant parts of an object to the user.\n",
    "\n",
    "    OOP is widely used in languages like Java, Python, C++, and C#. It's particularly helpful for managing complex software projects, as it promotes modularity, code reuse, and easier debugging and maintenance. Let me know if you'd like examples or further explanation!"
   ]
  },
  {
   "cell_type": "markdown",
   "id": "ad8a54b4",
   "metadata": {},
   "source": [
    "### 2. What is a class in OOP?\n",
    "\n",
    "In Object-Oriented Programming (OOP), a class acts as a blueprint or template for creating objects. It defines the properties (attributes) and behaviors (methods) that the objects created from it will have.\n",
    "\n",
    "For example, if you wanted to model a car, you could create a Car class. It might include:\n",
    "\n",
    "Attributes: color, brand, engine_type\n",
    "\n",
    "Methods: start(), stop(), accelerate()\n",
    "\n",
    "Here's a Python example :\n"
   ]
  },
  {
   "cell_type": "code",
   "execution_count": 2,
   "id": "accf04af",
   "metadata": {},
   "outputs": [
    {
     "name": "stdout",
     "output_type": "stream",
     "text": [
      "The red Toyota car is starting.\n",
      "The blue Honda car is stopping.\n"
     ]
    }
   ],
   "source": [
    "class Car:\n",
    "    # Attributes\n",
    "    def __init__(self, color, brand):\n",
    "        self.color = color\n",
    "        self.brand = brand\n",
    "    \n",
    "    # Methods\n",
    "    def start(self):\n",
    "        print(f\"The {self.color} {self.brand} car is starting.\")\n",
    "    \n",
    "    def stop(self):\n",
    "        print(f\"The {self.color} {self.brand} car is stopping.\")\n",
    "\n",
    "# Creating objects (instances of the class)\n",
    "car1 = Car(\"red\", \"Toyota\")\n",
    "car2 = Car(\"blue\", \"Honda\")\n",
    "\n",
    "# Using methods of the objects\n",
    "car1.start()  # Output: The red Toyota car is starting.\n",
    "car2.stop()   # Output: The blue Honda car is stopping.\n"
   ]
  },
  {
   "cell_type": "markdown",
   "id": "7df8c8b0",
   "metadata": {},
   "source": [
    "### 3. What is an object in OOP?\n",
    "\n",
    "In Object-Oriented Programming (OOP), an object is an instance of a class. While a class serves as a blueprint or template, an object represents a specific, concrete entity based on that class. It combines data (attributes or properties) and behavior (methods or functions) into a single, self-contained unit.\n",
    "\n",
    "For example:\n",
    "\n",
    "If a Car class defines general attributes like color and brand, and methods like start() and stop(), an object of that class (e.g., car1) could represent a specific car, such as a red Toyota that can start or stop.\n",
    "\n",
    "Key Features of an Object:\n",
    "State: The data/attributes the object holds (e.g., car1.color = \"red\").\n",
    "\n",
    "Behavior: The actions it can perform using methods (e.g., car1.start()).\n",
    "\n",
    "Identity: Each object has a unique identity or reference in memory.\n",
    "\n",
    "Example:"
   ]
  },
  {
   "cell_type": "code",
   "execution_count": 3,
   "id": "3337f3d7",
   "metadata": {},
   "outputs": [
    {
     "name": "stdout",
     "output_type": "stream",
     "text": [
      "red\n",
      "Toyota\n",
      "The red Toyota car starts.\n"
     ]
    }
   ],
   "source": [
    "class Car:\n",
    "    def __init__(self, color, brand):\n",
    "        self.color = color\n",
    "        self.brand = brand\n",
    "    \n",
    "    def start(self):\n",
    "        print(f\"The {self.color} {self.brand} car starts.\")\n",
    "\n",
    "# Creating an object (instance of the class)\n",
    "car1 = Car(\"red\", \"Toyota\")\n",
    "\n",
    "# Accessing the object's attributes and methods\n",
    "print(car1.color)  # Output: red\n",
    "print(car1.brand)  # Output: Toyota\n",
    "car1.start()       # Output: The red Toyota car starts.\n"
   ]
  },
  {
   "cell_type": "markdown",
   "id": "4dbece24",
   "metadata": {},
   "source": [
    "In this example, car1 is an object, and it has its own state (color and brand) and can perform behaviors (start() method)."
   ]
  },
  {
   "cell_type": "markdown",
   "id": "0e3538c1",
   "metadata": {},
   "source": [
    "### 4. What is the difference between abstraction and encapsulation?\n",
    "\n",
    "\n",
    "Abstraction and encapsulation are both key concepts in Object-Oriented Programming (OOP), but they serve different purposes and focus on different aspects of a system's design.\n",
    "\n",
    "##### Abstraction\n",
    "\n",
    "Definition: Abstraction is the process of hiding the complex implementation details of a system and showing only the essential features to the user. It focuses on the \"what\" a system does rather than \"how\" it does it.\n",
    "\n",
    "Purpose: Simplifies usage by providing only the relevant details while keeping the underlying complexity hidden.\n",
    "\n",
    "Example: When you drive a car, you only interact with the steering wheel, accelerator, and brakes (the \"what\"), but you don't need to understand how the engine, transmission, or other internal components work (the \"how\").\n",
    "\n",
    "In OOP, abstraction is achieved using abstract classes and interfaces. For instance:"
   ]
  },
  {
   "cell_type": "code",
   "execution_count": 5,
   "id": "706a858a",
   "metadata": {},
   "outputs": [
    {
     "name": "stdout",
     "output_type": "stream",
     "text": [
      "Dog Actions:\n",
      "The animal makes this sound: Bark\n",
      "The animal moves like this: The dog runs.\n",
      "\n",
      "Cat Actions:\n",
      "The animal makes this sound: Meow\n",
      "The animal moves like this: The cat jumps.\n",
      "\n",
      "Bird Actions:\n",
      "The animal makes this sound: Chirp\n",
      "The animal moves like this: The bird flies.\n"
     ]
    }
   ],
   "source": [
    "from abc import ABC, abstractmethod\n",
    "\n",
    "# Abstract class\n",
    "class Animal(ABC):\n",
    "    @abstractmethod\n",
    "    def make_sound(self):\n",
    "        pass  # Abstract method\n",
    "\n",
    "    @abstractmethod\n",
    "    def move(self):\n",
    "        pass  # Another abstract method\n",
    "\n",
    "# Concrete class: Dog\n",
    "class Dog(Animal):\n",
    "    def make_sound(self):\n",
    "        return \"Bark\"\n",
    "\n",
    "    def move(self):\n",
    "        return \"The dog runs.\"\n",
    "\n",
    "# Concrete class: Cat\n",
    "class Cat(Animal):\n",
    "    def make_sound(self):\n",
    "        return \"Meow\"\n",
    "\n",
    "    def move(self):\n",
    "        return \"The cat jumps.\"\n",
    "\n",
    "# Concrete class: Bird\n",
    "class Bird(Animal):\n",
    "    def make_sound(self):\n",
    "        return \"Chirp\"\n",
    "\n",
    "    def move(self):\n",
    "        return \"The bird flies.\"\n",
    "\n",
    "# Function that uses abstraction\n",
    "def animal_actions(animal):\n",
    "    print(f\"The animal makes this sound: {animal.make_sound()}\")\n",
    "    print(f\"The animal moves like this: {animal.move()}\")\n",
    "\n",
    "# Creating objects\n",
    "dog = Dog()\n",
    "cat = Cat()\n",
    "bird = Bird()\n",
    "\n",
    "# Demonstrating abstraction through function\n",
    "print(\"Dog Actions:\")\n",
    "animal_actions(dog)\n",
    "\n",
    "print(\"\\nCat Actions:\")\n",
    "animal_actions(cat)\n",
    "\n",
    "print(\"\\nBird Actions:\")\n",
    "animal_actions(bird)\n",
    "\n"
   ]
  },
  {
   "cell_type": "markdown",
   "id": "1ff5f6d4",
   "metadata": {},
   "source": [
    "#### Encapsulation\n",
    "\n",
    "Definition: Encapsulation is the process of bundling data (attributes) and methods (functions) that operate on the data into a single unit (class) and restricting access to some parts to ensure security and integrity.\n",
    "\n",
    "Purpose: Protects the internal state of an object by restricting direct access to its data and methods. It focuses on the \"how\" to secure and manage that data.\n",
    "\n",
    "Example: In a bank account object, access to account balance might be restricted (e.g., through private attributes) and controlled via public methods like deposit() or withdraw().\n",
    "\n",
    "In OOP, encapsulation is implemented by using access specifiers like private (_ or __) and public:"
   ]
  },
  {
   "cell_type": "code",
   "execution_count": 6,
   "id": "d9f1b48d",
   "metadata": {},
   "outputs": [
    {
     "name": "stdout",
     "output_type": "stream",
     "text": [
      "Current balance for Swagata: ₹5000\n",
      "₹2000 deposited. New balance: ₹7000\n",
      "₹1500 withdrawn. Remaining balance: ₹5500\n",
      "Invalid withdrawal amount. Insufficient balance or invalid input.\n",
      "Current balance for Swagata: ₹5500\n"
     ]
    }
   ],
   "source": [
    "class BankAccount:\n",
    "    def __init__(self, account_holder, balance=0):\n",
    "        self.__account_holder = account_holder  # Private attribute for account holder's name\n",
    "        self.__balance = balance  # Private attribute for account balance\n",
    "\n",
    "    def deposit(self, amount):\n",
    "        if amount > 0:\n",
    "            self.__balance += amount\n",
    "            print(f\"₹{amount} deposited. New balance: ₹{self.__balance}\")\n",
    "        else:\n",
    "            print(\"Invalid deposit amount. Please enter a positive number.\")\n",
    "\n",
    "    def withdraw(self, amount):\n",
    "        if 0 < amount <= self.__balance:\n",
    "            self.__balance -= amount\n",
    "            print(f\"₹{amount} withdrawn. Remaining balance: ₹{self.__balance}\")\n",
    "        else:\n",
    "            print(\"Invalid withdrawal amount. Insufficient balance or invalid input.\")\n",
    "\n",
    "    def get_balance(self):\n",
    "        print(f\"Current balance for {self.__account_holder}: ₹{self.__balance}\")\n",
    "\n",
    "# Demonstrating the functionality\n",
    "account = BankAccount(\"Swagata\", 5000)  # Create an account with an initial balance\n",
    "account.get_balance()  # Check initial balance\n",
    "\n",
    "account.deposit(2000)  # Deposit money\n",
    "account.withdraw(1500)  # Withdraw money\n",
    "account.withdraw(7000)  # Attempt to withdraw more than the balance\n",
    "account.get_balance()  # Final balance check\n"
   ]
  },
  {
   "cell_type": "markdown",
   "id": "4c1ceeec",
   "metadata": {},
   "source": [
    "### 5. What are dunder methods in Python?\n",
    "\n",
    "Dunder methods, short for \"double underscore methods,\" are special methods in Python with names that start and end with double underscores (e.g., __init__, __str__). These methods, also known as magic methods or special methods, are predefined by Python to enable certain functionalities and behaviors in your classes.\n",
    "\n",
    "They allow objects to interact with Python's built-in functions and operators in a way that feels natural. You don't call them directly; instead, they are invoked automatically in specific contexts.\n",
    "\n",
    "Common Dunder Methods and Their Uses:\n",
    "__init__ (Constructor):\n",
    "\n",
    "Called when an object is created to initialize its attributes.\n",
    "\n",
    "Example:"
   ]
  },
  {
   "cell_type": "code",
   "execution_count": 7,
   "id": "8da880c0",
   "metadata": {},
   "outputs": [
    {
     "name": "stdout",
     "output_type": "stream",
     "text": [
      "Swagata\n"
     ]
    }
   ],
   "source": [
    "class Person:\n",
    "    def __init__(self, name, age):\n",
    "        self.name = name\n",
    "        self.age = age\n",
    "person = Person(\"Swagata\", 25)\n",
    "print(person.name)  # Output: Swagata\n"
   ]
  },
  {
   "cell_type": "markdown",
   "id": "b638cb68",
   "metadata": {},
   "source": [
    "### 6. Explain the concept of inheritance in OOP?\n",
    "\n",
    "Inheritance is a fundamental concept in Object-Oriented Programming (OOP) that allows one class (called the child class or subclass) to acquire the properties and behaviors of another class (called the parent class or superclass). It promotes code reuse, scalability, and maintainability, making it easier to build and extend applications.\n",
    "\n",
    "Key Features of Inheritance:\n",
    "Code Reusability: Common attributes and methods defined in the parent class can be inherited by the child class, reducing duplication.\n",
    "\n",
    "Hierarchy: Establishes relationships between classes, such as \"is-a\" relationships (e.g., a Dog is-a type of Animal).\n",
    "\n",
    "Extensibility: Child classes can add or override methods or attributes of the parent class to provide specialized behavior.\n",
    "\n",
    "Example :"
   ]
  },
  {
   "cell_type": "code",
   "execution_count": 8,
   "id": "5e16cfc1",
   "metadata": {},
   "outputs": [
    {
     "name": "stdout",
     "output_type": "stream",
     "text": [
      "Buddy barks.\n",
      "Whiskers meows.\n"
     ]
    }
   ],
   "source": [
    "# Parent class\n",
    "class Animal:\n",
    "    def __init__(self, name):\n",
    "        self.name = name\n",
    "\n",
    "    def speak(self):\n",
    "        return f\"{self.name} makes a sound.\"\n",
    "\n",
    "# Child class\n",
    "class Dog(Animal):\n",
    "    def speak(self):\n",
    "        return f\"{self.name} barks.\"\n",
    "\n",
    "# Another child class\n",
    "class Cat(Animal):\n",
    "    def speak(self):\n",
    "        return f\"{self.name} meows.\"\n",
    "\n",
    "# Demonstrating inheritance\n",
    "dog = Dog(\"Buddy\")\n",
    "cat = Cat(\"Whiskers\")\n",
    "\n",
    "print(dog.speak())  # Output: Buddy barks.\n",
    "print(cat.speak())  # Output: Whiskers meows.\n"
   ]
  },
  {
   "cell_type": "markdown",
   "id": "e4cefc91",
   "metadata": {},
   "source": [
    "### 7. What is polymorphism in OOP?\n",
    "\n",
    "\n",
    "In Object-Oriented Programming (OOP), polymorphism is the ability of objects to take on many forms, allowing the same operation or method to behave differently depending on the context. It is one of the key principles of OOP and adds flexibility and scalability to your code.\n",
    "\n",
    "Types of Polymorphism:\n",
    "\n",
    "#### Method Overriding (Runtime Polymorphism):\n",
    "\n",
    "This occurs when a child class provides its own implementation of a method that is already defined in its parent class. The method in the child class overrides the method in the parent class, and the behavior is determined at runtime.\n",
    "\n",
    "Example:"
   ]
  },
  {
   "cell_type": "code",
   "execution_count": 10,
   "id": "d047f1cc",
   "metadata": {},
   "outputs": [
    {
     "name": "stdout",
     "output_type": "stream",
     "text": [
      "Bark\n",
      "Meow\n"
     ]
    }
   ],
   "source": [
    "class Animal:\n",
    "    def speak(self):\n",
    "        return \"Some generic animal sound\"\n",
    "\n",
    "class Dog(Animal):\n",
    "    def speak(self):\n",
    "        return \"Bark\"\n",
    "\n",
    "class Cat(Animal):\n",
    "    def speak(self):\n",
    "        return \"Meow\"\n",
    "\n",
    "# Using polymorphism\n",
    "def make_sound(animal):\n",
    "    print(animal.speak())\n",
    "\n",
    "dog = Dog()\n",
    "cat = Cat()\n",
    "\n",
    "make_sound(dog)  # Output: Bark\n",
    "make_sound(cat)  # Output: Meow\n"
   ]
  },
  {
   "cell_type": "markdown",
   "id": "d67901c4",
   "metadata": {},
   "source": [
    "#### Method Overloading (Compile-Time Polymorphism):\n",
    "\n",
    "Some languages, like Java, support method overloading, where you can define multiple methods with the same name but with different parameters in the same class. However, Python does not directly support method overloading. Instead, you can achieve similar behavior using default arguments or handling variable numbers of arguments.\n",
    "\n",
    "Example:"
   ]
  },
  {
   "cell_type": "code",
   "execution_count": 9,
   "id": "909268e6",
   "metadata": {},
   "outputs": [
    {
     "name": "stdout",
     "output_type": "stream",
     "text": [
      "5\n",
      "10\n"
     ]
    }
   ],
   "source": [
    "class Calculator:\n",
    "    def add(self, *args):\n",
    "        return sum(args)\n",
    "\n",
    "calc = Calculator()\n",
    "print(calc.add(2, 3))          # Output: 5\n",
    "print(calc.add(1, 2, 3, 4))   # Output: 10\n"
   ]
  },
  {
   "cell_type": "markdown",
   "id": "5cf1316d",
   "metadata": {},
   "source": [
    "##### Operator Overloading:\n",
    "\n",
    "This allows operators like +, -, or * to perform differently based on the operands. Python enables this by using dunder (magic) methods.\n",
    "\n",
    "Example:"
   ]
  },
  {
   "cell_type": "code",
   "execution_count": 11,
   "id": "0c9defc1",
   "metadata": {},
   "outputs": [
    {
     "name": "stdout",
     "output_type": "stream",
     "text": [
      "(6, 8)\n"
     ]
    }
   ],
   "source": [
    "class Point:\n",
    "    def __init__(self, x, y):\n",
    "        self.x = x\n",
    "        self.y = y\n",
    "\n",
    "    def __add__(self, other):\n",
    "        return Point(self.x + other.x, self.y + other.y)\n",
    "\n",
    "    def __str__(self):\n",
    "        return f\"({self.x}, {self.y})\"\n",
    "\n",
    "p1 = Point(2, 3)\n",
    "p2 = Point(4, 5)\n",
    "print(p1 + p2)  # Output: (6, 8)\n"
   ]
  },
  {
   "cell_type": "markdown",
   "id": "afe84854",
   "metadata": {},
   "source": [
    "### 8. How is encapsulation achieved in Python?\n",
    "\n",
    "Encapsulation in Python is achieved through the use of classes, private attributes, and methods to protect and restrict access to the internal state of an object. This ensures that an object's data is accessed and modified only through well-defined interfaces, maintaining its integrity and security.\n",
    "\n",
    "Here’s how encapsulation is achieved:\n",
    "\n",
    "  - Private Attributes and Methods\n",
    "Python uses a naming convention to indicate private attributes or methods by prefixing them with a single underscore _ (protected) or double underscores __ (private).\n",
    "\n",
    "These attributes cannot be accessed directly from outside the class. Instead, they are accessed via getter and setter methods.\n",
    "\n",
    "Example:"
   ]
  },
  {
   "cell_type": "code",
   "execution_count": 12,
   "id": "ebf0b219",
   "metadata": {},
   "outputs": [
    {
     "name": "stdout",
     "output_type": "stream",
     "text": [
      "50000\n",
      "60000\n"
     ]
    }
   ],
   "source": [
    "class Employee:\n",
    "    def __init__(self, name, salary):\n",
    "        self.__name = name      # Private attribute\n",
    "        self.__salary = salary  # Private attribute\n",
    "\n",
    "    # Getter method to access private attribute\n",
    "    def get_salary(self):\n",
    "        return self.__salary\n",
    "\n",
    "    # Setter method to modify private attribute\n",
    "    def set_salary(self, new_salary):\n",
    "        if new_salary > 0:\n",
    "            self.__salary = new_salary\n",
    "        else:\n",
    "            print(\"Invalid salary!\")\n",
    "\n",
    "# Creating an object of the Employee class\n",
    "employee = Employee(\"Swagata\", 50000)\n",
    "\n",
    "# Accessing private attributes using methods\n",
    "print(employee.get_salary())  # Output: 50000\n",
    "\n",
    "# Modifying private attributes using methods\n",
    "employee.set_salary(60000)\n",
    "print(employee.get_salary())  # Output: 60000\n",
    "\n",
    "# Direct access to private attributes (not allowed)\n",
    "# print(employee.__salary)  # AttributeError: 'Employee' object has no attribute '__salary'\n"
   ]
  },
  {
   "cell_type": "markdown",
   "id": "50334f61",
   "metadata": {},
   "source": [
    " - Access Modifiers\n",
    " \n",
    "Python uses the following access levels to indicate the visibility of attributes and methods:\n",
    "\n",
    "Public: No prefix (e.g., self.name). Accessible from anywhere.\n",
    "\n",
    "Protected: A single underscore prefix (e.g., _name). Meant for internal use and accessible only within the class and subclasses.\n",
    "\n",
    "Private: A double underscore prefix (e.g., __name). Accessible only within the class."
   ]
  },
  {
   "cell_type": "markdown",
   "id": "4c85595e",
   "metadata": {},
   "source": [
    "### 9. What is a constructor in Python?\n",
    "\n",
    "In Python, a constructor is a special method used to initialize the attributes of an object when it is created. It is called automatically at the time of object creation. In Python, the constructor is defined using the __init__ method.\n",
    "\n",
    "Key Features of a Constructor:\n",
    "\n",
    "- Initialization: It initializes the object's attributes with specific values.\n",
    "\n",
    "- Automatic Invocation: It is automatically invoked when a new object is instantiated.\n",
    "\n",
    "- Optional Arguments: You can define default values for parameters or customize it to accept user-defined inputs.\n",
    "\n",
    "Example:"
   ]
  },
  {
   "cell_type": "code",
   "execution_count": 13,
   "id": "83c10c7d",
   "metadata": {},
   "outputs": [
    {
     "name": "stdout",
     "output_type": "stream",
     "text": [
      "Name: Swagata, Age: 25\n",
      "Name: Rahul, Age: 30\n"
     ]
    }
   ],
   "source": [
    "class Person:\n",
    "    # Constructor to initialize name and age\n",
    "    def __init__(self, name, age):\n",
    "        self.name = name\n",
    "        self.age = age\n",
    "\n",
    "    # Method to display details\n",
    "    def display_info(self):\n",
    "        print(f\"Name: {self.name}, Age: {self.age}\")\n",
    "\n",
    "# Creating objects (constructor is called automatically)\n",
    "person1 = Person(\"Swagata\", 25)\n",
    "person2 = Person(\"Rahul\", 30)\n",
    "\n",
    "# Using the object methods\n",
    "person1.display_info()  # Output: Name: Swagata, Age: 25\n",
    "person2.display_info()  # Output: Name: Rahul, Age: 30\n"
   ]
  },
  {
   "cell_type": "markdown",
   "id": "a1271d63",
   "metadata": {},
   "source": [
    "### 10. What are class and static methods in Python?\n",
    "\n",
    "\n",
    "In Python, class methods and static methods are two types of methods that serve distinct purposes within a class. They are defined using decorators and are not the same as regular instance methods.\n",
    "\n",
    "#### Class Methods\n",
    "\n",
    "A class method is a method that operates on the class itself rather than on individual instances of the class. It has access to the class attributes and can modify the class state. Class methods are defined using the @classmethod decorator, and the first parameter is conventionally named cls (representing the class).\n",
    "\n",
    "Key Features:\n",
    "Works with the class, not an instance.\n",
    "\n",
    "Can access and modify class-level data.\n",
    "\n",
    "Can be called on the class or an instance.\n",
    "\n",
    "Example:"
   ]
  },
  {
   "cell_type": "code",
   "execution_count": 14,
   "id": "2ac27528",
   "metadata": {},
   "outputs": [
    {
     "name": "stdout",
     "output_type": "stream",
     "text": [
      "InnoTech\n"
     ]
    }
   ],
   "source": [
    "class Employee:\n",
    "    company_name = \"TechCorp\"  # Class attribute\n",
    "\n",
    "    def __init__(self, name):\n",
    "        self.name = name\n",
    "\n",
    "    @classmethod\n",
    "    def change_company_name(cls, new_name):\n",
    "        cls.company_name = new_name\n",
    "\n",
    "# Accessing the class method\n",
    "Employee.change_company_name(\"InnoTech\")\n",
    "print(Employee.company_name)  # Output: InnoTech\n"
   ]
  },
  {
   "cell_type": "markdown",
   "id": "1fdee526",
   "metadata": {},
   "source": [
    "#### Static Methods\n",
    "\n",
    "A static method is a method that does not operate on the class or its instances. It behaves like a regular function but belongs to the class's namespace. Static methods are defined using the @staticmethod decorator and do not take a self or cls parameter.\n",
    "\n",
    "Key Features:\n",
    "Does not depend on class or instance data.\n",
    "\n",
    "Used for utility or helper functions that are relevant to the class.\n",
    "\n",
    "Can be called on the class or an instance.\n",
    "\n",
    "Example:"
   ]
  },
  {
   "cell_type": "code",
   "execution_count": 15,
   "id": "efccb225",
   "metadata": {},
   "outputs": [
    {
     "name": "stdout",
     "output_type": "stream",
     "text": [
      "15\n"
     ]
    }
   ],
   "source": [
    "class MathUtility:\n",
    "    @staticmethod\n",
    "    def add_numbers(a, b):\n",
    "        return a + b\n",
    "\n",
    "# Accessing the static method\n",
    "print(MathUtility.add_numbers(5, 10))  # Output: 15\n"
   ]
  },
  {
   "cell_type": "markdown",
   "id": "a1dfe582",
   "metadata": {},
   "source": [
    "### 11. What is method overloading in Python?\n",
    "\n",
    "In Python, method overloading refers to creating multiple methods with the same name but with different parameters to perform similar or related operations. However, Python doesn't support traditional method overloading as seen in some other programming languages like Java or C++. Instead, it relies on default arguments or variable-length arguments to achieve a similar effect."
   ]
  },
  {
   "cell_type": "code",
   "execution_count": 1,
   "id": "cc461349",
   "metadata": {},
   "outputs": [
    {
     "name": "stdout",
     "output_type": "stream",
     "text": [
      "10\n",
      "30\n",
      "60\n"
     ]
    }
   ],
   "source": [
    "class Calculator:\n",
    "    def add(self, a, b=0, c=0):\n",
    "        return a + b + c\n",
    "\n",
    "calc = Calculator()\n",
    "print(calc.add(10))         # Output: 10 (only one argument)\n",
    "print(calc.add(10, 20))     # Output: 30 (two arguments)\n",
    "print(calc.add(10, 20, 30)) # Output: 60 (three arguments)\n"
   ]
  },
  {
   "cell_type": "markdown",
   "id": "f35c6471",
   "metadata": {},
   "source": [
    "### 12. What is method overriding in OOP?\n",
    "\n",
    "Method overriding in Object-Oriented Programming (OOP) occurs when a subclass provides a specific implementation for a method that is already defined in its parent class. The method in the subclass should have the same name, return type, and parameters as the method in the parent class. This allows the subclass to modify or extend the behavior of the inherited method."
   ]
  },
  {
   "cell_type": "code",
   "execution_count": 2,
   "id": "9d222181",
   "metadata": {},
   "outputs": [
    {
     "name": "stdout",
     "output_type": "stream",
     "text": [
      "Hello from the Child class!\n"
     ]
    }
   ],
   "source": [
    "class Parent:\n",
    "    def greet(self):\n",
    "        print(\"Hello from the Parent class!\")\n",
    "\n",
    "class Child(Parent):\n",
    "    def greet(self):\n",
    "        print(\"Hello from the Child class!\")\n",
    "\n",
    "# Example usage\n",
    "obj = Child()\n",
    "obj.greet()  # Output: Hello from the Child class!\n"
   ]
  },
  {
   "cell_type": "markdown",
   "id": "c18b4c7e",
   "metadata": {},
   "source": [
    "### 13. What is a property decorator in Python?\n",
    "\n",
    "In Python, a property decorator (@property) is used to define methods in a class that behave like attributes. This allows one to add getter, setter, and deleter functionality to an attribute while keeping the syntax clean and intuitive. It essentially transforms method calls into attribute-like access."
   ]
  },
  {
   "cell_type": "code",
   "execution_count": 3,
   "id": "f93c91f2",
   "metadata": {},
   "outputs": [
    {
     "name": "stdout",
     "output_type": "stream",
     "text": [
      "5\n",
      "Deleting radius...\n"
     ]
    }
   ],
   "source": [
    "class Circle:\n",
    "    def __init__(self, radius):\n",
    "        self._radius = radius  # Private variable\n",
    "\n",
    "    @property\n",
    "    def radius(self):\n",
    "        return self._radius\n",
    "\n",
    "    @radius.setter\n",
    "    def radius(self, value):\n",
    "        if value < 0:\n",
    "            raise ValueError(\"Radius cannot be negative\")\n",
    "        self._radius = value\n",
    "\n",
    "    @radius.deleter\n",
    "    def radius(self):\n",
    "        print(\"Deleting radius...\")\n",
    "        del self._radius\n",
    "\n",
    "# Example usage\n",
    "circle = Circle(5)\n",
    "print(circle.radius)  # Getter: Output is 5\n",
    "circle.radius = 10    # Setter: Change value to 10\n",
    "del circle.radius     # Deleter: Deletes the radius attribute\n"
   ]
  },
  {
   "cell_type": "markdown",
   "id": "40f5eefa",
   "metadata": {},
   "source": [
    "### 14. Why is polymorphism important in OOP?\n",
    "\n",
    "Polymorphism is a cornerstone of Object-Oriented Programming (OOP) because it enables flexibility, reusability, and maintainability in code. Here are the key reasons why polymorphism is so important:\n",
    "\n",
    "1. Code Flexibility\n",
    "Polymorphism allows a single interface to work with objects of different types. This means you can write code that interacts with objects in a general way, without needing to know their specific class at compile time.\n",
    "\n",
    "2. Code Reusability\n",
    "With polymorphism, you can design reusable components that adapt to various object types. This eliminates the need for repetitive, type-specific code, making the system more efficient.\n",
    "\n",
    "3. Support for Extensibility\n",
    "New classes can be added to the system without modifying existing code, as long as the new classes adhere to the expected interface (e.g., by inheriting from a base class). This is a core principle of software design known as the Open/Closed Principle.\n",
    "\n",
    "4. Simplifies Maintenance\n",
    "Since the codebase becomes more generic and modular, polymorphism reduces complexity and makes it easier to maintain and update. Changes in one part of the code have minimal impact on other parts."
   ]
  },
  {
   "cell_type": "markdown",
   "id": "7e880870",
   "metadata": {},
   "source": [
    "### 15. What is an abstract class in Python?\n",
    "\n",
    "An abstract class in Python is a class that cannot be instantiated directly but serves as a blueprint for other classes. It defines a common interface and may include abstract methods, which are methods that have no implementation in the abstract class and must be implemented in its subclasses. Abstract classes promote code reusability and enforce a consistent structure across subclasses.\n",
    "\n",
    "In Python, abstract classes are created using the ABC (Abstract Base Class) module from the abc library. To define an abstract method, you use the @abstractmethod decorator."
   ]
  },
  {
   "cell_type": "code",
   "execution_count": 4,
   "id": "a14bcdeb",
   "metadata": {},
   "outputs": [
    {
     "name": "stdout",
     "output_type": "stream",
     "text": [
      "Bark\n"
     ]
    }
   ],
   "source": [
    "from abc import ABC, abstractmethod\n",
    "\n",
    "class Animal(ABC):\n",
    "    @abstractmethod\n",
    "    def sound(self):\n",
    "        pass  # Abstract method; no implementation\n",
    "\n",
    "class Dog(Animal):\n",
    "    def sound(self):\n",
    "        return \"Bark\"\n",
    "\n",
    "class Cat(Animal):\n",
    "    def sound(self):\n",
    "        return \"Meow\"\n",
    "\n",
    "# Example usage\n",
    "dog = Dog()\n",
    "print(dog.sound())  # Output: Bark\n",
    "\n",
    "# Uncommenting the following line will raise an error:\n",
    "# animal = Animal()  # TypeError: Can't instantiate abstract class Animal\n"
   ]
  },
  {
   "cell_type": "markdown",
   "id": "aea95570",
   "metadata": {},
   "source": [
    "### 16. What are the advantages of OOP?\n",
    "\n",
    "Object-Oriented Programming (OOP) has numerous advantages that make it a popular paradigm for software development. Here are some of its key benefits:\n",
    "\n",
    "1. Modularity Through Classes\n",
    "OOP organizes code into classes and objects, making it modular. Each class encapsulates data and behavior, making the code more structured and easier to manage.\n",
    "\n",
    "2. Code Reusability\n",
    "Through inheritance, classes can reuse the functionality of existing classes. This reduces duplication of code and makes development faster.\n",
    "\n",
    "3. Encapsulation\n",
    "By bundling data (attributes) and methods (functions) into a single unit (class), OOP provides a way to protect the internal state of an object. Only authorized methods can access or modify an object's data, which increases security and reduces the risk of unintended interference.\n",
    "\n",
    "4. Flexibility Through Polymorphism\n",
    "Polymorphism allows methods to behave differently based on the object they are called on. This leads to flexibility and makes it easier to extend and maintain systems.\n",
    "\n",
    "5. Ease of Maintenance\n",
    "The modular nature of OOP makes it easier to update, debug, and maintain the code. Changes in one class generally don’t affect others if they are properly encapsulated.\n",
    "\n",
    "6. Scalability\n",
    "The principles of OOP, such as modularity and reuse, allow programs to grow in size and complexity without becoming unmanageable.\n",
    "\n",
    "7. Abstraction\n",
    "OOP allows developers to hide complex implementation details behind simple interfaces. This simplifies how users interact with objects and reduces cognitive load."
   ]
  },
  {
   "cell_type": "markdown",
   "id": "ff296c66",
   "metadata": {},
   "source": [
    "### 17. What is the difference between a class variable and an instance variable?\n",
    "\n",
    "The main difference between a class variable and an instance variable lies in their scope, accessibility, and the way they are shared across instances of a class.\n",
    "\n",
    "1. Class Variable\n",
    "\n",
    "A class variable is shared across all instances of a class.\n",
    "\n",
    "It is defined within the class but outside of any instance methods.\n",
    "\n",
    "If the value of a class variable is modified, the change is reflected across all instances that share it.\n",
    "\n",
    "\n",
    "2. Instance Variable\n",
    "\n",
    "An instance variable is specific to an object (instance of a class).\n",
    "\n",
    "It is defined and initialized within an instance method (often in the __init__ method) using self.\n",
    "\n",
    "Each instance has its own separate copy of an instance variable. Modifying the instance variable in one object does not affect others."
   ]
  },
  {
   "cell_type": "markdown",
   "id": "84f82e8e",
   "metadata": {},
   "source": [
    "### 18. What is multiple inheritance in Python?\n",
    "\n",
    "In Python, multiple inheritance is a feature that allows a class to inherit attributes and methods from more than one parent class. This provides flexibility in reusing code from multiple sources and combining behaviors."
   ]
  },
  {
   "cell_type": "code",
   "execution_count": 5,
   "id": "fe2aa407",
   "metadata": {},
   "outputs": [
    {
     "name": "stdout",
     "output_type": "stream",
     "text": [
      "Method from Parent1\n",
      "Method from Parent2\n"
     ]
    }
   ],
   "source": [
    "class Parent1:\n",
    "    def method1(self):\n",
    "        print(\"Method from Parent1\")\n",
    "\n",
    "class Parent2:\n",
    "    def method2(self):\n",
    "        print(\"Method from Parent2\")\n",
    "\n",
    "class Child(Parent1, Parent2):\n",
    "    pass\n",
    "\n",
    "# Example usage\n",
    "obj = Child()\n",
    "obj.method1()  # Output: Method from Parent1\n",
    "obj.method2()  # Output: Method from Parent2\n"
   ]
  },
  {
   "cell_type": "markdown",
   "id": "3552442c",
   "metadata": {},
   "source": [
    "### 19. Explain the purpose of ‘’__str__’ and ‘__repr__’ ‘ methods in Python?\n",
    "\n",
    "n Python, the __str__ and __repr__ methods are special (or \"magic\") methods that define string representations of objects. While their purposes overlap to some extent, they are intended for slightly different use cases.\n",
    "\n",
    "1. __repr__: Unambiguous Representation\n",
    "The __repr__ method is meant to provide a string representation of the object that is unambiguous and useful for developers or debugging.\n",
    "\n",
    "It is called when you use repr(object) or when you simply type the object name in an interactive Python session.\n",
    "\n",
    "The goal is for the output of __repr__ to be informative and, ideally, allow you to recreate the object.\n",
    "\n",
    "Example:"
   ]
  },
  {
   "cell_type": "code",
   "execution_count": 6,
   "id": "85151a17",
   "metadata": {},
   "outputs": [
    {
     "name": "stdout",
     "output_type": "stream",
     "text": [
      "Person(name='Alice', age=30)\n"
     ]
    }
   ],
   "source": [
    "class Person:\n",
    "    def __init__(self, name, age):\n",
    "        self.name = name\n",
    "        self.age = age\n",
    "\n",
    "    def __repr__(self):\n",
    "        return f\"Person(name='{self.name}', age={self.age})\"\n",
    "\n",
    "p = Person(\"Alice\", 30)\n",
    "print(repr(p))  # Output: Person(name='Alice', age=30)\n"
   ]
  },
  {
   "cell_type": "markdown",
   "id": "39169cf3",
   "metadata": {},
   "source": [
    "2. __str__: Readable/Printable Representation\n",
    "The __str__ method is intended to provide a \"pretty\" or human-readable string representation of an object.\n",
    "\n",
    "It is called when you use str(object) or print(object).\n",
    "\n",
    "The output of __str__ should be more user-friendly and less focused on technical details.\n",
    "\n",
    "Example:"
   ]
  },
  {
   "cell_type": "code",
   "execution_count": 8,
   "id": "fed7dd83",
   "metadata": {},
   "outputs": [
    {
     "name": "stdout",
     "output_type": "stream",
     "text": [
      "Alice, aged 30\n"
     ]
    }
   ],
   "source": [
    "class Person:\n",
    "    def __init__(self, name, age):\n",
    "        self.name = name\n",
    "        self.age = age\n",
    "\n",
    "    def __str__(self):\n",
    "        return f\"{self.name}, aged {self.age}\"\n",
    "\n",
    "p = Person(\"Alice\", 30)\n",
    "print(str(p))  # Output: Alice, aged 30\n"
   ]
  },
  {
   "cell_type": "markdown",
   "id": "11074fbc",
   "metadata": {},
   "source": [
    "### 20. What is the significance of the ‘super()’ function in Python?\n",
    "\n",
    "he super() function in Python plays a crucial role in supporting inheritance and method resolution. It is primarily used to call a method in the parent class from a child class, enabling better control and organization in hierarchical structures. Here’s why super() is significant:\n",
    "\n",
    "1. Facilitates Method Overriding\n",
    "When a child class overrides a method from its parent class, super() allows you to invoke the parent class's version of the method in addition to implementing custom behavior in the child class.\n",
    "\n",
    "Example:"
   ]
  },
  {
   "cell_type": "code",
   "execution_count": 9,
   "id": "f73bf8a3",
   "metadata": {},
   "outputs": [
    {
     "name": "stdout",
     "output_type": "stream",
     "text": [
      "Hello from Parent\n",
      "Hello from Child\n"
     ]
    }
   ],
   "source": [
    "class Parent:\n",
    "    def greet(self):\n",
    "        print(\"Hello from Parent\")\n",
    "\n",
    "class Child(Parent):\n",
    "    def greet(self):\n",
    "        super().greet()  # Call the Parent's greet method\n",
    "        print(\"Hello from Child\")\n",
    "\n",
    "obj = Child()\n",
    "obj.greet()\n",
    "# Output:\n",
    "# Hello from Parent\n",
    "# Hello from Child\n"
   ]
  },
  {
   "cell_type": "markdown",
   "id": "8bd044b8",
   "metadata": {},
   "source": [
    "2. Supports Multiple Inheritance\n",
    "\n",
    "In cases of multiple inheritance, super() follows the Method Resolution Order (MRO) to ensure that the correct method is invoked from the appropriate class.\n",
    "\n",
    "Example"
   ]
  },
  {
   "cell_type": "code",
   "execution_count": 10,
   "id": "dd315d4c",
   "metadata": {},
   "outputs": [
    {
     "name": "stdout",
     "output_type": "stream",
     "text": [
      "Process in C\n",
      "Process in B\n",
      "Process in A\n"
     ]
    }
   ],
   "source": [
    "class A:\n",
    "    def process(self):\n",
    "        print(\"Process in A\")\n",
    "\n",
    "class B(A):\n",
    "    def process(self):\n",
    "        print(\"Process in B\")\n",
    "        super().process()\n",
    "\n",
    "class C(B):\n",
    "    def process(self):\n",
    "        print(\"Process in C\")\n",
    "        super().process()\n",
    "\n",
    "obj = C()\n",
    "obj.process()\n",
    "# Output:\n",
    "# Process in C\n",
    "# Process in B\n",
    "# Process in A\n"
   ]
  },
  {
   "cell_type": "markdown",
   "id": "310a139f",
   "metadata": {},
   "source": [
    "### 21. What is the significance of the __del__ method in Python?\n",
    "\n",
    "The __del__ method in Python is a special (or \"magic\") method known as a destructor. It is called when an object is about to be destroyed, typically when it goes out of scope or when its reference count drops to zero. The main purpose of the __del__ method is to perform any necessary cleanup, such as releasing resources or closing files, before the object is removed from memory.\n",
    "\n",
    "Significance of __del__:\n",
    "\n",
    "\n",
    "Resource Cleanup:\n",
    "\n",
    "__del__ is commonly used to release resources like file handles, network connections, or database connections that the object was managing."
   ]
  },
  {
   "cell_type": "code",
   "execution_count": 11,
   "id": "6f3da3b6",
   "metadata": {},
   "outputs": [
    {
     "name": "stdout",
     "output_type": "stream",
     "text": [
      "File opened.\n",
      "File closed.\n"
     ]
    }
   ],
   "source": [
    "class FileHandler:\n",
    "    def __init__(self, filename):\n",
    "        self.file = open(filename, \"w\")\n",
    "        print(\"File opened.\")\n",
    "\n",
    "    def __del__(self):\n",
    "        self.file.close()\n",
    "        print(\"File closed.\")\n",
    "\n",
    "obj = FileHandler(\"example.txt\")\n",
    "del obj  # Explicitly deletes the object, triggering __del__()\n",
    "# Output:\n",
    "# File closed.\n"
   ]
  },
  {
   "cell_type": "markdown",
   "id": "f420ac02",
   "metadata": {},
   "source": [
    "Object Finalization:\n",
    "\n",
    "It provides an opportunity to define custom behavior that should happen when an object is garbage collected.\n",
    "\n",
    "Automatic Garbage Collection:\n",
    "\n",
    "Python's garbage collector automatically deallocates memory for objects no longer in use. While this process usually doesn't require developer intervention, the __del__ method allows you to define specific cleanup logic for your object."
   ]
  },
  {
   "cell_type": "markdown",
   "id": "b0e78b30",
   "metadata": {},
   "source": [
    "### 22. What is the difference between @staticmethod and @classmethod in Python?\n",
    "\n",
    "\n",
    "In Python, both @staticmethod and @classmethod are decorators used to define methods inside a class. However, they differ in functionality and how they interact with the class and its instances.\n",
    "\n",
    "1. @staticmethod: Independent Method:\n",
    "    \n",
    "A @staticmethod is a method that does not depend on an instance or the class itself. It behaves like a regular function but is defined inside a class for organizational purposes.\n",
    "\n",
    "It does not take a self or cls parameter as it doesn't need access to the class or instance.\n",
    "\n",
    "Useful for utility or helper functions."
   ]
  },
  {
   "cell_type": "code",
   "execution_count": 12,
   "id": "90a7ac70",
   "metadata": {},
   "outputs": [
    {
     "name": "stdout",
     "output_type": "stream",
     "text": [
      "15\n"
     ]
    }
   ],
   "source": [
    "class MathUtils:\n",
    "    @staticmethod\n",
    "    def add(a, b):\n",
    "        return a + b\n",
    "\n",
    "# Usage\n",
    "print(MathUtils.add(5, 10))  # Output: 15\n"
   ]
  },
  {
   "cell_type": "markdown",
   "id": "c3bee7f7",
   "metadata": {},
   "source": [
    "2. @classmethod: Works With the Class\n",
    "    \n",
    "A @classmethod operates on the class itself, not the instance. It takes cls (the class) as its first parameter, giving it access to class variables or methods.\n",
    "\n",
    "Useful for methods that need to modify or interact with the class rather than its instances.\n",
    "\n",
    "Example:"
   ]
  },
  {
   "cell_type": "code",
   "execution_count": 13,
   "id": "7a3d0f82",
   "metadata": {},
   "outputs": [
    {
     "name": "stdout",
     "output_type": "stream",
     "text": [
      "1\n"
     ]
    }
   ],
   "source": [
    "class MyClass:\n",
    "    count = 0\n",
    "\n",
    "    @classmethod\n",
    "    def increment_count(cls):\n",
    "        cls.count += 1\n",
    "\n",
    "# Usage\n",
    "MyClass.increment_count()\n",
    "print(MyClass.count)  # Output: 1\n"
   ]
  },
  {
   "cell_type": "markdown",
   "id": "b414c5c6",
   "metadata": {},
   "source": [
    "### 23. How does polymorphism work in Python with inheritance?\n",
    "\n",
    "Polymorphism in Python works in conjunction with inheritance by allowing objects of different classes (related through inheritance) to be treated uniformly based on shared methods or behaviors. It enables objects to respond to the same method call in different ways, depending on their class. This is a core principle of Object-Oriented Programming (OOP) that enhances flexibility and modularity in code.\n",
    "\n",
    "1. Method Overriding:\n",
    "\n",
    "A subclass can override a method defined in the parent class to provide its specific implementation. When polymorphism is applied, the overridden method is called based on the actual type of the object, even if the object is referenced as an instance of the parent class.\n",
    "\n",
    "Example:"
   ]
  },
  {
   "cell_type": "code",
   "execution_count": 15,
   "id": "edfc3e95",
   "metadata": {},
   "outputs": [
    {
     "name": "stdout",
     "output_type": "stream",
     "text": [
      "Dog barks\n",
      "Cat meows\n"
     ]
    }
   ],
   "source": [
    "class Animal:\n",
    "    def speak(self):\n",
    "        print(\"Animal makes a sound\")\n",
    "\n",
    "class Dog(Animal):\n",
    "    def speak(self):\n",
    "        print(\"Dog barks\")\n",
    "\n",
    "class Cat(Animal):\n",
    "    def speak(self):\n",
    "        print(\"Cat meows\")\n",
    "\n",
    "# Polymorphism in action\n",
    "animals = [Dog(), Cat()]\n",
    "\n",
    "for animal in animals:\n",
    "    animal.speak()\n",
    "# Output:\n",
    "# Dog barks\n",
    "# Cat meows\n"
   ]
  },
  {
   "cell_type": "markdown",
   "id": "7b1a74ea",
   "metadata": {},
   "source": [
    "2. Shared Interface:\n",
    "\n",
    "Polymorphism ensures that objects of different classes can be used interchangeably if they share a common interface (i.e., they inherit from a common parent class). This makes the code more flexible and reduces dependency on specific types.\n",
    "\n",
    "Example:"
   ]
  },
  {
   "cell_type": "code",
   "execution_count": 16,
   "id": "07fffecb",
   "metadata": {},
   "outputs": [
    {
     "name": "stdout",
     "output_type": "stream",
     "text": [
      "Dog barks\n",
      "Cat meows\n"
     ]
    }
   ],
   "source": [
    "def make_sound(animal):\n",
    "    animal.speak()\n",
    "\n",
    "make_sound(Dog())  # Output: Dog barks\n",
    "make_sound(Cat())  # Output: Cat meows\n"
   ]
  },
  {
   "cell_type": "markdown",
   "id": "bdc3f5e2",
   "metadata": {},
   "source": [
    "### 24. What is method chaining in Python OOP?\n",
    "\n",
    "Method chaining in Python Object-Oriented Programming (OOP) is a programming technique where multiple methods are called on an object in a single line of code. Each method returns the object itself (usually self), allowing subsequent method calls to be chained together fluently. This approach makes code more concise and readable.\n",
    "\n",
    "Example"
   ]
  },
  {
   "cell_type": "code",
   "execution_count": 19,
   "id": "75a3bcba",
   "metadata": {},
   "outputs": [
    {
     "name": "stdout",
     "output_type": "stream",
     "text": [
      "My name is Alice and I have the following skills: Python, Data Science\n"
     ]
    },
    {
     "data": {
      "text/plain": [
       "<__main__.Person at 0x79dfb52f1350>"
      ]
     },
     "execution_count": 19,
     "metadata": {},
     "output_type": "execute_result"
    }
   ],
   "source": [
    "class Person:\n",
    "    def __init__(self, name):\n",
    "        self.name = name\n",
    "        self.skills = []\n",
    "\n",
    "    def add_skill(self, skill):\n",
    "        self.skills.append(skill)\n",
    "        return self  # Enables method chaining\n",
    "\n",
    "    def introduce(self):\n",
    "        print(f\"My name is {self.name} and I have the following skills: {', '.join(self.skills)}\")\n",
    "        return self  # Enables chaining if needed\n",
    "\n",
    "# Using method chaining\n",
    "person = Person(\"Alice\")\n",
    "person.add_skill(\"Python\").add_skill(\"Data Science\").introduce()\n"
   ]
  },
  {
   "cell_type": "markdown",
   "id": "e6165e21",
   "metadata": {},
   "source": [
    "### 25. What is the purpose of the __call__ method in Python?"
   ]
  },
  {
   "cell_type": "markdown",
   "id": "b52abf2f",
   "metadata": {},
   "source": [
    "The __call__ method in Python is a special or \"dunder\" method that allows an instance of a class to be called as if it were a regular function. Essentially, it gives the object function-like behavior.\n",
    "\n",
    "#### Purpose:\n",
    "    \n",
    "The __call__ method is used to define what happens when an object is invoked (i.e., followed by parentheses). It is particularly useful when you want an object to perform a specific operation, often maintaining state or encapsulating logic.\n",
    "\n",
    "Example:"
   ]
  },
  {
   "cell_type": "code",
   "execution_count": 20,
   "id": "17e4f245",
   "metadata": {},
   "outputs": [
    {
     "name": "stdout",
     "output_type": "stream",
     "text": [
      "20\n",
      "30\n"
     ]
    }
   ],
   "source": [
    "class Multiplier:\n",
    "    def __init__(self, factor):\n",
    "        self.factor = factor\n",
    "\n",
    "    def __call__(self, number):\n",
    "        return number * self.factor\n",
    "\n",
    "# Using the class\n",
    "double = Multiplier(2)  # Create an instance with a factor of 2\n",
    "triple = Multiplier(3)  # Create an instance with a factor of 3\n",
    "\n",
    "print(double(10))  # Output: 20 (10 * 2)\n",
    "print(triple(10))  # Output: 30 (10 * 3)\n"
   ]
  },
  {
   "cell_type": "markdown",
   "id": "6b62bf6c",
   "metadata": {},
   "source": [
    "# Practical Questions:\n",
    "\n",
    "###  1. Create a parent class Animal with a method speak() that prints a generic message. Create a child class Dog that overrides the speak() method to print \"Bark!\".\n",
    "\n"
   ]
  },
  {
   "cell_type": "code",
   "execution_count": 1,
   "id": "815c0dab",
   "metadata": {},
   "outputs": [
    {
     "name": "stdout",
     "output_type": "stream",
     "text": [
      "This is a generic animal sound.\n",
      "Bark!\n"
     ]
    }
   ],
   "source": [
    "# Parent class\n",
    "class Animal:\n",
    "    def speak(self):\n",
    "        print(\"This is a generic animal sound.\")\n",
    "\n",
    "# Child class\n",
    "class Dog(Animal):\n",
    "    def speak(self):\n",
    "        print(\"Bark!\")\n",
    "\n",
    "# Testing the classes\n",
    "generic_animal = Animal()\n",
    "generic_animal.speak()  # Output: This is a generic animal sound.\n",
    "\n",
    "dog = Dog()\n",
    "dog.speak()  # Output: Bark!\n"
   ]
  },
  {
   "cell_type": "markdown",
   "id": "f520fd65",
   "metadata": {},
   "source": [
    "### 2. Write a program to create an abstract class Shape with a method area(). Derive classes Circle and Rectangle from it and implement the area() method in both.\n",
    "\n"
   ]
  },
  {
   "cell_type": "code",
   "execution_count": 2,
   "id": "c265f5f2",
   "metadata": {},
   "outputs": [
    {
     "name": "stdout",
     "output_type": "stream",
     "text": [
      "Area of Circle: 78.53975\n",
      "Area of Rectangle: 24\n"
     ]
    }
   ],
   "source": [
    "from abc import ABC, abstractmethod\n",
    "\n",
    "# Abstract class\n",
    "class Shape(ABC):\n",
    "    @abstractmethod\n",
    "    def area(self):\n",
    "        pass\n",
    "\n",
    "# Derived class for Circle\n",
    "class Circle(Shape):\n",
    "    def __init__(self, radius):\n",
    "        self.radius = radius\n",
    "\n",
    "    def area(self):\n",
    "        return 3.14159 * self.radius * self.radius  # Formula for area of a circle\n",
    "\n",
    "# Derived class for Rectangle\n",
    "class Rectangle(Shape):\n",
    "    def __init__(self, length, width):\n",
    "        self.length = length\n",
    "        self.width = width\n",
    "\n",
    "    def area(self):\n",
    "        return self.length * self.width  # Formula for area of a rectangle\n",
    "\n",
    "# Testing the classes\n",
    "circle = Circle(5)  # Circle with radius 5\n",
    "rectangle = Rectangle(4, 6)  # Rectangle with length 4 and width 6\n",
    "\n",
    "print(f\"Area of Circle: {circle.area()}\")  # Output: 78.53975\n",
    "print(f\"Area of Rectangle: {rectangle.area()}\")  # Output: 24\n"
   ]
  },
  {
   "cell_type": "markdown",
   "id": "7f08a2cb",
   "metadata": {},
   "source": [
    "### 3. Implement a multi-level inheritance scenario where a class Vehicle has an attribute type. Derive a class Car and further derive a class ElectricCar that adds a battery attribute."
   ]
  },
  {
   "cell_type": "code",
   "execution_count": 3,
   "id": "09d0ca23",
   "metadata": {},
   "outputs": [
    {
     "name": "stdout",
     "output_type": "stream",
     "text": [
      "Vehicle Type: Car\n",
      "Car Brand: Tesla\n",
      "Battery Capacity: 75 kWh\n"
     ]
    }
   ],
   "source": [
    "# Base class\n",
    "class Vehicle:\n",
    "    def __init__(self, vehicle_type):\n",
    "        self.type = vehicle_type\n",
    "\n",
    "    def display_info(self):\n",
    "        print(f\"Vehicle Type: {self.type}\")\n",
    "\n",
    "# Derived class\n",
    "class Car(Vehicle):\n",
    "    def __init__(self, vehicle_type, brand):\n",
    "        super().__init__(vehicle_type)\n",
    "        self.brand = brand\n",
    "\n",
    "    def display_info(self):\n",
    "        super().display_info()\n",
    "        print(f\"Car Brand: {self.brand}\")\n",
    "\n",
    "# Further derived class\n",
    "class ElectricCar(Car):\n",
    "    def __init__(self, vehicle_type, brand, battery_capacity):\n",
    "        super().__init__(vehicle_type, brand)\n",
    "        self.battery = battery_capacity\n",
    "\n",
    "    def display_info(self):\n",
    "        super().display_info()\n",
    "        print(f\"Battery Capacity: {self.battery} kWh\")\n",
    "\n",
    "# Testing the multi-level inheritance\n",
    "# Create an instance of ElectricCar\n",
    "electric_car = ElectricCar(\"Car\", \"Tesla\", 75)\n",
    "\n",
    "# Display its information\n",
    "electric_car.display_info()\n"
   ]
  },
  {
   "cell_type": "markdown",
   "id": "b88bb36c",
   "metadata": {},
   "source": [
    "### 4. Demonstrate polymorphism by creating a base class Bird with a method fly(). Create two derived classes Sparrow and Penguin that override the fly() method.\n",
    "\n"
   ]
  },
  {
   "cell_type": "code",
   "execution_count": 4,
   "id": "80c23f76",
   "metadata": {},
   "outputs": [
    {
     "name": "stdout",
     "output_type": "stream",
     "text": [
      "Sparrows can fly short distances and are quite swift.\n",
      "Penguins can't fly, but they are excellent swimmers.\n"
     ]
    }
   ],
   "source": [
    "# Base class\n",
    "class Bird:\n",
    "    def fly(self):\n",
    "        print(\"Some birds can fly high in the sky.\")\n",
    "\n",
    "# Derived class for Sparrow\n",
    "class Sparrow(Bird):\n",
    "    def fly(self):\n",
    "        print(\"Sparrows can fly short distances and are quite swift.\")\n",
    "\n",
    "# Derived class for Penguin\n",
    "class Penguin(Bird):\n",
    "    def fly(self):\n",
    "        print(\"Penguins can't fly, but they are excellent swimmers.\")\n",
    "\n",
    "# Function to demonstrate polymorphism\n",
    "def bird_flight_test(bird):\n",
    "    bird.fly()\n",
    "\n",
    "# Testing the classes\n",
    "sparrow = Sparrow()\n",
    "penguin = Penguin()\n",
    "\n",
    "# Demonstrate polymorphism\n",
    "bird_flight_test(sparrow)  # Output: Sparrows can fly short distances and are quite swift.\n",
    "bird_flight_test(penguin)  # Output: Penguins can't fly, but they are excellent swimmers.\n"
   ]
  },
  {
   "cell_type": "markdown",
   "id": "2a8b8d3d",
   "metadata": {},
   "source": [
    "### 5. Write a program to demonstrate encapsulation by creating a class BankAccount with private attributes balance and methods to deposit, withdraw, and check balance.\n",
    "\n"
   ]
  },
  {
   "cell_type": "code",
   "execution_count": 5,
   "id": "2cf70af4",
   "metadata": {},
   "outputs": [
    {
     "name": "stdout",
     "output_type": "stream",
     "text": [
      "Current Balance: 1000\n",
      "Deposited: 500\n",
      "Current Balance: 1500\n",
      "Withdrew: 300\n",
      "Current Balance: 1200\n",
      "Insufficient balance.\n"
     ]
    }
   ],
   "source": [
    "class BankAccount:\n",
    "    def __init__(self, initial_balance=0):\n",
    "        # Private attribute for balance\n",
    "        self.__balance = initial_balance\n",
    "\n",
    "    # Method to deposit money\n",
    "    def deposit(self, amount):\n",
    "        if amount > 0:\n",
    "            self.__balance += amount\n",
    "            print(f\"Deposited: {amount}\")\n",
    "        else:\n",
    "            print(\"Deposit amount must be positive.\")\n",
    "\n",
    "    # Method to withdraw money\n",
    "    def withdraw(self, amount):\n",
    "        if 0 < amount <= self.__balance:\n",
    "            self.__balance -= amount\n",
    "            print(f\"Withdrew: {amount}\")\n",
    "        elif amount > self.__balance:\n",
    "            print(\"Insufficient balance.\")\n",
    "        else:\n",
    "            print(\"Withdrawal amount must be positive.\")\n",
    "\n",
    "    # Method to check balance\n",
    "    def check_balance(self):\n",
    "        print(f\"Current Balance: {self.__balance}\")\n",
    "\n",
    "# Testing the BankAccount class\n",
    "account = BankAccount(1000)  # Initial balance is 1000\n",
    "account.check_balance()       # Output: Current Balance: 1000\n",
    "account.deposit(500)          # Output: Deposited: 500\n",
    "account.check_balance()       # Output: Current Balance: 1500\n",
    "account.withdraw(300)         # Output: Withdrew: 300\n",
    "account.check_balance()       # Output: Current Balance: 1200\n",
    "account.withdraw(2000)        # Output: Insufficient balance.\n"
   ]
  },
  {
   "cell_type": "markdown",
   "id": "35ed7207",
   "metadata": {},
   "source": [
    "### 6. Demonstrate runtime polymorphism using a method play() in a base class Instrument. Derive classes Guitar and Piano that implement their own version of play().\n",
    "\n"
   ]
  },
  {
   "cell_type": "code",
   "execution_count": 6,
   "id": "66f534ba",
   "metadata": {},
   "outputs": [
    {
     "name": "stdout",
     "output_type": "stream",
     "text": [
      "Strumming the strings of a guitar.\n",
      "Pressing the keys of a piano.\n"
     ]
    }
   ],
   "source": [
    "# Base class\n",
    "class Instrument:\n",
    "    def play(self):\n",
    "        print(\"Playing an instrument.\")\n",
    "\n",
    "# Derived class for Guitar\n",
    "class Guitar(Instrument):\n",
    "    def play(self):\n",
    "        print(\"Strumming the strings of a guitar.\")\n",
    "\n",
    "# Derived class for Piano\n",
    "class Piano(Instrument):\n",
    "    def play(self):\n",
    "        print(\"Pressing the keys of a piano.\")\n",
    "\n",
    "# Function to demonstrate polymorphism\n",
    "def play_instrument(instrument):\n",
    "    instrument.play()\n",
    "\n",
    "# Testing the classes\n",
    "guitar = Guitar()\n",
    "piano = Piano()\n",
    "\n",
    "# Demonstrate runtime polymorphism\n",
    "play_instrument(guitar)  # Output: Strumming the strings of a guitar.\n",
    "play_instrument(piano)   # Output: Pressing the keys of a piano.\n"
   ]
  },
  {
   "cell_type": "markdown",
   "id": "beb85dc9",
   "metadata": {},
   "source": [
    "### 7. Create a class MathOperations with a class method add_numbers() to add two numbers and a static method subtract_numbers() to subtract two numbers.\n",
    "\n"
   ]
  },
  {
   "cell_type": "code",
   "execution_count": 7,
   "id": "671e28b6",
   "metadata": {},
   "outputs": [
    {
     "name": "stdout",
     "output_type": "stream",
     "text": [
      "Addition: 15\n",
      "Subtraction: 5\n"
     ]
    }
   ],
   "source": [
    "class MathOperations:\n",
    "    # Class method to add two numbers\n",
    "    @classmethod\n",
    "    def add_numbers(cls, num1, num2):\n",
    "        return num1 + num2\n",
    "\n",
    "    # Static method to subtract two numbers\n",
    "    @staticmethod\n",
    "    def subtract_numbers(num1, num2):\n",
    "        return num1 - num2\n",
    "\n",
    "# Testing the class\n",
    "# Using the class method\n",
    "result_addition = MathOperations.add_numbers(10, 5)\n",
    "print(f\"Addition: {result_addition}\")  # Output: Addition: 15\n",
    "\n",
    "# Using the static method\n",
    "result_subtraction = MathOperations.subtract_numbers(10, 5)\n",
    "print(f\"Subtraction: {result_subtraction}\")  # Output: Subtraction: 5\n"
   ]
  },
  {
   "cell_type": "markdown",
   "id": "8249f959",
   "metadata": {},
   "source": [
    "### 8. Implement a class Person with a class method to count the total number of persons created.\n",
    "\n"
   ]
  },
  {
   "cell_type": "code",
   "execution_count": 8,
   "id": "43bb3323",
   "metadata": {},
   "outputs": [
    {
     "name": "stdout",
     "output_type": "stream",
     "text": [
      "Total persons created: 3\n"
     ]
    }
   ],
   "source": [
    "class Person:\n",
    "    # Class attribute to keep track of the count\n",
    "    count = 0\n",
    "\n",
    "    def __init__(self, name):\n",
    "        self.name = name\n",
    "        # Increment the count whenever a new person is created\n",
    "        Person.count += 1\n",
    "\n",
    "    # Class method to get the total count of persons\n",
    "    @classmethod\n",
    "    def get_person_count(cls):\n",
    "        return cls.count\n",
    "\n",
    "# Testing the Person class\n",
    "person1 = Person(\"Alice\")\n",
    "person2 = Person(\"Bob\")\n",
    "person3 = Person(\"Charlie\")\n",
    "\n",
    "# Get the total count of persons created\n",
    "print(f\"Total persons created: {Person.get_person_count()}\")  # Output: Total persons created: 3\n"
   ]
  },
  {
   "cell_type": "markdown",
   "id": "ad5e7216",
   "metadata": {},
   "source": [
    "### 9. Write a class Fraction with attributes numerator and denominator. Override the str method to display the fraction as \"numerator/denominator\".\n",
    "\n"
   ]
  },
  {
   "cell_type": "code",
   "execution_count": 9,
   "id": "f94c9565",
   "metadata": {},
   "outputs": [
    {
     "name": "stdout",
     "output_type": "stream",
     "text": [
      "Fraction 1: 3/4\n",
      "Fraction 2: 7/2\n"
     ]
    }
   ],
   "source": [
    "class Fraction:\n",
    "    def __init__(self, numerator, denominator):\n",
    "        self.numerator = numerator\n",
    "        self.denominator = denominator\n",
    "\n",
    "    # Override the str method\n",
    "    def __str__(self):\n",
    "        return f\"{self.numerator}/{self.denominator}\"\n",
    "\n",
    "# Testing the Fraction class\n",
    "fraction1 = Fraction(3, 4)\n",
    "fraction2 = Fraction(7, 2)\n",
    "\n",
    "# Display the fractions\n",
    "print(f\"Fraction 1: {fraction1}\")  # Output: Fraction 1: 3/4\n",
    "print(f\"Fraction 2: {fraction2}\")  # Output: Fraction 2: 7/2\n"
   ]
  },
  {
   "cell_type": "markdown",
   "id": "0106a137",
   "metadata": {},
   "source": [
    "### 10. Demonstrate operator overloading by creating a class Vector and overriding the add method to add two vectors.\n",
    "\n"
   ]
  },
  {
   "cell_type": "code",
   "execution_count": 10,
   "id": "45ca268d",
   "metadata": {},
   "outputs": [
    {
     "name": "stdout",
     "output_type": "stream",
     "text": [
      "Vector 1: Vector(2, 3)\n",
      "Vector 2: Vector(4, 5)\n",
      "Resultant Vector: Vector(6, 8)\n"
     ]
    }
   ],
   "source": [
    "class Vector:\n",
    "    def __init__(self, x, y):\n",
    "        self.x = x\n",
    "        self.y = y\n",
    "\n",
    "    # Overriding the __add__ method to enable vector addition\n",
    "    def __add__(self, other):\n",
    "        return Vector(self.x + other.x, self.y + other.y)\n",
    "\n",
    "    # Overriding the __str__ method for a user-friendly representation\n",
    "    def __str__(self):\n",
    "        return f\"Vector({self.x}, {self.y})\"\n",
    "\n",
    "# Testing the Vector class and operator overloading\n",
    "vector1 = Vector(2, 3)\n",
    "vector2 = Vector(4, 5)\n",
    "\n",
    "result = vector1 + vector2  # This calls the __add__ method\n",
    "print(f\"Vector 1: {vector1}\")  # Output: Vector(2, 3)\n",
    "print(f\"Vector 2: {vector2}\")  # Output: Vector(4, 5)\n",
    "print(f\"Resultant Vector: {result}\")  # Output: Vector(6, 8)\n"
   ]
  },
  {
   "cell_type": "markdown",
   "id": "d89115e7",
   "metadata": {},
   "source": [
    "### 11. Create a class Person with attributes name and age. Add a method greet() that prints \"Hello, my name is {name} and I am {age} years old"
   ]
  },
  {
   "cell_type": "code",
   "execution_count": 11,
   "id": "e52a3557",
   "metadata": {},
   "outputs": [
    {
     "name": "stdout",
     "output_type": "stream",
     "text": [
      "Hello, my name is Alice and I am 30 years old.\n",
      "Hello, my name is Bob and I am 25 years old.\n"
     ]
    }
   ],
   "source": [
    "class Person:\n",
    "    def __init__(self, name, age):\n",
    "        self.name = name\n",
    "        self.age = age\n",
    "\n",
    "    # Method to greet\n",
    "    def greet(self):\n",
    "        print(f\"Hello, my name is {self.name} and I am {self.age} years old.\")\n",
    "\n",
    "# Testing the Person class\n",
    "person1 = Person(\"Alice\", 30)\n",
    "person1.greet()  # Output: Hello, my name is Alice and I am 30 years old.\n",
    "\n",
    "person2 = Person(\"Bob\", 25)\n",
    "person2.greet()  # Output: Hello, my name is Bob and I am 25 years old.\n"
   ]
  },
  {
   "cell_type": "markdown",
   "id": "cb2803c2",
   "metadata": {},
   "source": [
    "### 12. Implement a class Student with attributes name and grades. Create a method average_grade() to compute the average of the grades.\n",
    "\n"
   ]
  },
  {
   "cell_type": "code",
   "execution_count": 12,
   "id": "59aff3b3",
   "metadata": {},
   "outputs": [
    {
     "name": "stdout",
     "output_type": "stream",
     "text": [
      "Alice's Average Grade: 86.25\n",
      "Bob's Average Grade: 84.33333333333333\n"
     ]
    }
   ],
   "source": [
    "class Student:\n",
    "    def __init__(self, name, grades):\n",
    "        self.name = name\n",
    "        self.grades = grades  # A list of grades\n",
    "\n",
    "    # Method to calculate the average grade\n",
    "    def average_grade(self):\n",
    "        if self.grades:  # Ensure the list isn't empty\n",
    "            return sum(self.grades) / len(self.grades)\n",
    "        else:\n",
    "            return 0  # Return 0 if there are no grades\n",
    "\n",
    "# Testing the Student class\n",
    "student1 = Student(\"Alice\", [85, 90, 78, 92])\n",
    "student2 = Student(\"Bob\", [70, 88, 95])\n",
    "\n",
    "# Display the average grades\n",
    "print(f\"{student1.name}'s Average Grade: {student1.average_grade()}\")  # Output: 86.25\n",
    "print(f\"{student2.name}'s Average Grade: {student2.average_grade()}\")  # Output: 84.33\n"
   ]
  },
  {
   "cell_type": "markdown",
   "id": "7144f9c1",
   "metadata": {},
   "source": [
    "### 13. Create a class Rectangle with methods set_dimensions() to set the dimensions and area() to calculate the area.\n",
    "\n"
   ]
  },
  {
   "cell_type": "code",
   "execution_count": 13,
   "id": "1ee28d3c",
   "metadata": {},
   "outputs": [
    {
     "name": "stdout",
     "output_type": "stream",
     "text": [
      "Area of the rectangle: 50\n"
     ]
    }
   ],
   "source": [
    "class Rectangle:\n",
    "    def __init__(self):\n",
    "        self.length = 0\n",
    "        self.width = 0\n",
    "\n",
    "    # Method to set the dimensions of the rectangle\n",
    "    def set_dimensions(self, length, width):\n",
    "        self.length = length\n",
    "        self.width = width\n",
    "\n",
    "    # Method to calculate the area of the rectangle\n",
    "    def area(self):\n",
    "        return self.length * self.width\n",
    "\n",
    "# Testing the Rectangle class\n",
    "rect = Rectangle()\n",
    "rect.set_dimensions(5, 10)  # Setting dimensions to length=5 and width=10\n",
    "print(f\"Area of the rectangle: {rect.area()}\")  # Output: Area of the rectangle: 50\n"
   ]
  },
  {
   "cell_type": "markdown",
   "id": "7baac48a",
   "metadata": {},
   "source": [
    "### 14. Create a class Employee with a method calculate_salary() that computes the salary based on hours worked and hourly rate. Create a derived class Manager that adds a bonus to the salary."
   ]
  },
  {
   "cell_type": "code",
   "execution_count": 14,
   "id": "79b8b158",
   "metadata": {},
   "outputs": [
    {
     "name": "stdout",
     "output_type": "stream",
     "text": [
      "John's Salary: $800\n",
      "Alice's Salary: $1700\n"
     ]
    }
   ],
   "source": [
    "class Employee:\n",
    "    def __init__(self, name, hours_worked, hourly_rate):\n",
    "        self.name = name\n",
    "        self.hours_worked = hours_worked\n",
    "        self.hourly_rate = hourly_rate\n",
    "\n",
    "    # Method to calculate the salary\n",
    "    def calculate_salary(self):\n",
    "        return self.hours_worked * self.hourly_rate\n",
    "\n",
    "class Manager(Employee):\n",
    "    def __init__(self, name, hours_worked, hourly_rate, bonus):\n",
    "        super().__init__(name, hours_worked, hourly_rate)\n",
    "        self.bonus = bonus\n",
    "\n",
    "    # Overriding calculate_salary to include bonus\n",
    "    def calculate_salary(self):\n",
    "        return super().calculate_salary() + self.bonus\n",
    "\n",
    "# Testing the classes\n",
    "employee = Employee(\"John\", 40, 20)  # 40 hours, $20/hour\n",
    "manager = Manager(\"Alice\", 40, 30, 500)  # 40 hours, $30/hour, $500 bonus\n",
    "\n",
    "print(f\"{employee.name}'s Salary: ${employee.calculate_salary()}\")  # Output: John's Salary: $800\n",
    "print(f\"{manager.name}'s Salary: ${manager.calculate_salary()}\")    # Output: Alice's Salary: $1700\n"
   ]
  },
  {
   "cell_type": "markdown",
   "id": "44ee833f",
   "metadata": {},
   "source": [
    "### 15. Create a class Product with attributes name, price, and quantity. Implement a method total_price() that calculates the total price of the product.\n",
    "\n"
   ]
  },
  {
   "cell_type": "code",
   "execution_count": 15,
   "id": "5be2cef4",
   "metadata": {},
   "outputs": [
    {
     "name": "stdout",
     "output_type": "stream",
     "text": [
      "Total price of Laptop: 150000\n",
      "Total price of Mobile Phone: 90000\n"
     ]
    }
   ],
   "source": [
    "class Product:\n",
    "    def __init__(self, name, price, quantity):\n",
    "        self.name = name\n",
    "        self.price = price\n",
    "        self.quantity = quantity\n",
    "\n",
    "    # Method to calculate the total price of the product\n",
    "    def total_price(self):\n",
    "        return self.price * self.quantity\n",
    "\n",
    "# Testing the Product class\n",
    "product1 = Product(\"Laptop\", 75000, 2)\n",
    "product2 = Product(\"Mobile Phone\", 30000, 3)\n",
    "\n",
    "# Display total prices\n",
    "print(f\"Total price of {product1.name}: {product1.total_price()}\")  # Output: Total price of Laptop: 150000\n",
    "print(f\"Total price of {product2.name}: {product2.total_price()}\")  # Output: Total price of Mobile Phone: 90000\n"
   ]
  },
  {
   "cell_type": "markdown",
   "id": "adb668fe",
   "metadata": {},
   "source": [
    "### 16. Create a class Animal with an abstract method sound(). Create two derived classes Cow and Sheep that implement the sound() method.\n",
    "\n"
   ]
  },
  {
   "cell_type": "code",
   "execution_count": 16,
   "id": "96a64c95",
   "metadata": {},
   "outputs": [
    {
     "name": "stdout",
     "output_type": "stream",
     "text": [
      "Moo\n",
      "Baa\n"
     ]
    }
   ],
   "source": [
    "from abc import ABC, abstractmethod\n",
    "\n",
    "# Abstract class\n",
    "class Animal(ABC):\n",
    "    @abstractmethod\n",
    "    def sound(self):\n",
    "        pass\n",
    "\n",
    "# Derived class for Cow\n",
    "class Cow(Animal):\n",
    "    def sound(self):\n",
    "        print(\"Moo\")\n",
    "\n",
    "# Derived class for Sheep\n",
    "class Sheep(Animal):\n",
    "    def sound(self):\n",
    "        print(\"Baa\")\n",
    "\n",
    "# Testing the classes\n",
    "cow = Cow()\n",
    "sheep = Sheep()\n",
    "\n",
    "cow.sound()  # Output: Moo\n",
    "sheep.sound()  # Output: Baa\n"
   ]
  },
  {
   "cell_type": "markdown",
   "id": "bb62901a",
   "metadata": {},
   "source": [
    "### 17. Create a class Book with attributes title, author, and year_published. Add a method get_book_info() that returns a formatted string with the book's details.\n",
    "\n"
   ]
  },
  {
   "cell_type": "code",
   "execution_count": 17,
   "id": "a905e103",
   "metadata": {},
   "outputs": [
    {
     "name": "stdout",
     "output_type": "stream",
     "text": [
      "'1984' by George Orwell, published in 1949.\n",
      "'To Kill a Mockingbird' by Harper Lee, published in 1960.\n"
     ]
    }
   ],
   "source": [
    "class Book:\n",
    "    def __init__(self, title, author, year_published):\n",
    "        self.title = title\n",
    "        self.author = author\n",
    "        self.year_published = year_published\n",
    "\n",
    "    # Method to get book information\n",
    "    def get_book_info(self):\n",
    "        return f\"'{self.title}' by {self.author}, published in {self.year_published}.\"\n",
    "\n",
    "# Testing the Book class\n",
    "book1 = Book(\"1984\", \"George Orwell\", 1949)\n",
    "book2 = Book(\"To Kill a Mockingbird\", \"Harper Lee\", 1960)\n",
    "\n",
    "# Display book information\n",
    "print(book1.get_book_info())  # Output: '1984' by George Orwell, published in 1949.\n",
    "print(book2.get_book_info())  # Output: 'To Kill a Mockingbird' by Harper Lee, published in 1960.\n"
   ]
  },
  {
   "cell_type": "markdown",
   "id": "19dea943",
   "metadata": {},
   "source": [
    "### 18. Create a class House with attributes address and price. Create a derived class Mansion that adds an attribute number_of_rooms.\n"
   ]
  },
  {
   "cell_type": "code",
   "execution_count": 18,
   "id": "02a43c77",
   "metadata": {},
   "outputs": [
    {
     "name": "stdout",
     "output_type": "stream",
     "text": [
      "House Info:\n",
      "Address: 123 Elm Street\n",
      "Price: $500000\n",
      "\n",
      "Mansion Info:\n",
      "Address: 456 Maple Avenue\n",
      "Price: $2000000\n",
      "Number of Rooms: 10\n"
     ]
    }
   ],
   "source": [
    "# Base class\n",
    "class House:\n",
    "    def __init__(self, address, price):\n",
    "        self.address = address\n",
    "        self.price = price\n",
    "\n",
    "    def display_info(self):\n",
    "        print(f\"Address: {self.address}\")\n",
    "        print(f\"Price: ${self.price}\")\n",
    "\n",
    "# Derived class\n",
    "class Mansion(House):\n",
    "    def __init__(self, address, price, number_of_rooms):\n",
    "        super().__init__(address, price)\n",
    "        self.number_of_rooms = number_of_rooms\n",
    "\n",
    "    # Overriding display_info to include the number of rooms\n",
    "    def display_info(self):\n",
    "        super().display_info()\n",
    "        print(f\"Number of Rooms: {self.number_of_rooms}\")\n",
    "\n",
    "# Testing the classes\n",
    "house = House(\"123 Elm Street\", 500000)\n",
    "mansion = Mansion(\"456 Maple Avenue\", 2000000, 10)\n",
    "\n",
    "# Display information for House\n",
    "print(\"House Info:\")\n",
    "house.display_info()\n",
    "\n",
    "# Display information for Mansion\n",
    "print(\"\\nMansion Info:\")\n",
    "mansion.display_info()\n"
   ]
  },
  {
   "cell_type": "code",
   "execution_count": null,
   "id": "fe73711c",
   "metadata": {},
   "outputs": [],
   "source": []
  }
 ],
 "metadata": {
  "kernelspec": {
   "display_name": "Python 3 (ipykernel)",
   "language": "python",
   "name": "python3"
  },
  "language_info": {
   "codemirror_mode": {
    "name": "ipython",
    "version": 3
   },
   "file_extension": ".py",
   "mimetype": "text/x-python",
   "name": "python",
   "nbconvert_exporter": "python",
   "pygments_lexer": "ipython3",
   "version": "3.7.16"
  }
 },
 "nbformat": 4,
 "nbformat_minor": 5
}
